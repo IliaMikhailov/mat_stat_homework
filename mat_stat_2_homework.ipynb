{
 "cells": [
  {
   "cell_type": "markdown",
   "id": "3ec62dd7",
   "metadata": {},
   "source": [
    "Домашнее задание № 2."
   ]
  },
  {
   "cell_type": "markdown",
   "id": "9fe2f19a",
   "metadata": {},
   "source": [
    "1. Контрольная работа состоит из пяти вопросов. На каждый вопрос приведено четыре варианта ответа, один из которых правильный. Случайная величина X задаёт число правильных ответов при простом угадывании. Найдите математическое ожидание данной случайной величины. Найдите дисперсию случайной величины X."
   ]
  },
  {
   "cell_type": "code",
   "execution_count": 53,
   "id": "2e26e501",
   "metadata": {},
   "outputs": [],
   "source": [
    "import numpy as np\n",
    "import pandas as pd\n",
    "import matplotlib.pyplot as plt"
   ]
  },
  {
   "cell_type": "code",
   "execution_count": 2,
   "id": "45e71abb",
   "metadata": {},
   "outputs": [],
   "source": [
    "def combinations(n:int, k:int):\n",
    "    return np.math.factorial(n)//(np.math.factorial(k)*np.math.factorial(n-k))"
   ]
  },
  {
   "cell_type": "markdown",
   "id": "6fd9fce6",
   "metadata": {},
   "source": [
    "Вероятность угадать правильный ответ всегда одинаковая и равна 1/5. Вероятность ответить неправильно также одинаковая для всех вопросов и равна 4/5.\n",
    "Следовательно вероятность ответить 5 раз неправильно будет равно 4/5 возведённую в 5 степень."
   ]
  },
  {
   "cell_type": "code",
   "execution_count": 3,
   "id": "1e2d4ed5",
   "metadata": {},
   "outputs": [
    {
     "data": {
      "text/plain": [
       "0.32768"
      ]
     },
     "execution_count": 3,
     "metadata": {},
     "output_type": "execute_result"
    }
   ],
   "source": [
    "Px0=(4**5)/(5**5);\n",
    "Px0"
   ]
  },
  {
   "cell_type": "markdown",
   "id": "016e9cdd",
   "metadata": {},
   "source": [
    "Остальные вероятности будут вычисляться по формуле Бернулли"
   ]
  },
  {
   "cell_type": "code",
   "execution_count": 4,
   "id": "4a8e7cc0",
   "metadata": {},
   "outputs": [
    {
     "data": {
      "text/plain": [
       "0.2"
      ]
     },
     "execution_count": 4,
     "metadata": {},
     "output_type": "execute_result"
    }
   ],
   "source": [
    "q = 1/5\n",
    "q"
   ]
  },
  {
   "cell_type": "code",
   "execution_count": 5,
   "id": "26a754f8",
   "metadata": {},
   "outputs": [
    {
     "data": {
      "text/plain": [
       "0.8"
      ]
     },
     "execution_count": 5,
     "metadata": {},
     "output_type": "execute_result"
    }
   ],
   "source": [
    "p = 4/5\n",
    "p"
   ]
  },
  {
   "cell_type": "code",
   "execution_count": 6,
   "id": "24f48bf8",
   "metadata": {},
   "outputs": [
    {
     "data": {
      "text/plain": [
       "0.4096000000000001"
      ]
     },
     "execution_count": 6,
     "metadata": {},
     "output_type": "execute_result"
    }
   ],
   "source": [
    "Px1=combinations(5,1)*q*(p**4)\n",
    "Px1"
   ]
  },
  {
   "cell_type": "code",
   "execution_count": 7,
   "id": "ed919450",
   "metadata": {},
   "outputs": [
    {
     "data": {
      "text/plain": [
       "0.2048000000000001"
      ]
     },
     "execution_count": 7,
     "metadata": {},
     "output_type": "execute_result"
    }
   ],
   "source": [
    "Px2=combinations(5,2)*(q**2)*(p**3)\n",
    "Px2"
   ]
  },
  {
   "cell_type": "code",
   "execution_count": 8,
   "id": "17851631",
   "metadata": {},
   "outputs": [
    {
     "data": {
      "text/plain": [
       "0.05120000000000002"
      ]
     },
     "execution_count": 8,
     "metadata": {},
     "output_type": "execute_result"
    }
   ],
   "source": [
    "Px3=combinations(5,3)*(q**3)*(p**2)\n",
    "Px3"
   ]
  },
  {
   "cell_type": "code",
   "execution_count": 9,
   "id": "d40f2ca4",
   "metadata": {},
   "outputs": [
    {
     "data": {
      "text/plain": [
       "0.006400000000000002"
      ]
     },
     "execution_count": 9,
     "metadata": {},
     "output_type": "execute_result"
    }
   ],
   "source": [
    "Px4=combinations(5,4)*(q**4)*(p)\n",
    "Px4"
   ]
  },
  {
   "cell_type": "code",
   "execution_count": 10,
   "id": "60300e4b",
   "metadata": {},
   "outputs": [
    {
     "data": {
      "text/plain": [
       "0.0003200000000000001"
      ]
     },
     "execution_count": 10,
     "metadata": {},
     "output_type": "execute_result"
    }
   ],
   "source": [
    "Px5=q**5\n",
    "Px5"
   ]
  },
  {
   "cell_type": "markdown",
   "id": "d7df7579",
   "metadata": {},
   "source": [
    "Математическое ожидание считаем по формуле M(X)=n⋅p, где n - число вопросов, а p - вероятность ответить правильно. "
   ]
  },
  {
   "cell_type": "code",
   "execution_count": 11,
   "id": "258c2f6f",
   "metadata": {},
   "outputs": [
    {
     "data": {
      "text/plain": [
       "1.0"
      ]
     },
     "execution_count": 11,
     "metadata": {},
     "output_type": "execute_result"
    }
   ],
   "source": [
    "Mx=4*0.25\n",
    "Mx"
   ]
  },
  {
   "cell_type": "markdown",
   "id": "91cbd11c",
   "metadata": {},
   "source": [
    "То есть в среднем 1 из ответов будет верным"
   ]
  },
  {
   "cell_type": "markdown",
   "id": "b5801620",
   "metadata": {},
   "source": [
    "Дисперсия:"
   ]
  },
  {
   "cell_type": "code",
   "execution_count": 12,
   "id": "89a85361",
   "metadata": {},
   "outputs": [
    {
     "data": {
      "text/plain": [
       "0.8000000000000009"
      ]
     },
     "execution_count": 12,
     "metadata": {},
     "output_type": "execute_result"
    }
   ],
   "source": [
    "Dx = (1*Px1 + (2**2)*Px2 + (3**2)*Px3 + (4**2)*Px4 + (5**2)*Px5) - Mx**2\n",
    "Dx"
   ]
  },
  {
   "cell_type": "markdown",
   "id": "a32a700a",
   "metadata": {},
   "source": [
    "2. Пользователь получает в среднем 10 писем со спамом на свой почтовый ящик за сутки. Найти число N, такое, что с вероятностью 0.95 пользователь получит не более N писем со спамом за текущий день."
   ]
  },
  {
   "cell_type": "code",
   "execution_count": 115,
   "id": "4860346c",
   "metadata": {},
   "outputs": [],
   "source": [
    "def poisson_(k: int, lambda_: float) -> float:\n",
    "    return (lambda_ ** k) * (np.exp(-lambda_)) / np.math.factorial(k)"
   ]
  },
  {
   "cell_type": "code",
   "execution_count": 119,
   "id": "80cc9d0f",
   "metadata": {},
   "outputs": [],
   "source": [
    "lambda_ = 10\n",
    "sum = 0\n",
    "i = -1\n",
    "while (sum <= 0.95):\n",
    "        i = i+1\n",
    "        sum = sum + poisson_(k=i, lambda_=lambda_)"
   ]
  },
  {
   "cell_type": "code",
   "execution_count": 118,
   "id": "41f7b8a5",
   "metadata": {},
   "outputs": [
    {
     "data": {
      "text/plain": [
       "15"
      ]
     },
     "execution_count": 118,
     "metadata": {},
     "output_type": "execute_result"
    }
   ],
   "source": [
    "i"
   ]
  },
  {
   "cell_type": "markdown",
   "id": "9d5e8d74",
   "metadata": {},
   "source": [
    "3. Производятся выстрелы по мишени. Вероятность попадания в мишень при одном выстреле равна 0.01. Сколько выстрелов нужно сделать чтобы быть уверенным с вероятностью 0.9, что хотя бы 6 раз будет совершено попадание?\n",
    "\n",
    "Подсказка: 1) \"Вероятность попасть k раз при n выстрелах\" - на какое распределение это похоже? 2) А если нам нужна вероятность P(X >= k), а не P(X = k)? 3) Здесь предстоит немножко покодить."
   ]
  },
  {
   "cell_type": "markdown",
   "id": "7465e6f3",
   "metadata": {},
   "source": [
    "Пусть сделано n выстрелов. \n",
    "Вероятность того, стрелок ни разу не попал, равна (1−p)^n. Следовательно, 1−(1−p)^n -- вероятность того, что он хотя бы один раз попал. Она должна быть не меньше p1, что равносильно неравенству 1−(1−p)^n≥p1, то есть 1−p1≥(1−p)^n. Прологарифмируем по основанию 1−p<1 (в случае, если p=1, когда попадание происходит наверняка, достаточно одного выстрела; при p=0 никакого количества выстрелов не хватит). Логарифмическая функция с таким основанием убывает, поэтому знак неравенства меняется. Получится log1−p(1−p1)≤n. Таким образом, нужно сделать не меньше log 1−p (1−p1) выстрелов. Для удобства вычислений можно записать эту величину в виде ln(1−p)/ln(1−p1)."
   ]
  },
  {
   "cell_type": "code",
   "execution_count": 113,
   "id": "e83cef6b",
   "metadata": {},
   "outputs": [
    {
     "data": {
      "text/plain": [
       "229.10528827669427"
      ]
     },
     "execution_count": 113,
     "metadata": {},
     "output_type": "execute_result"
    }
   ],
   "source": [
    "import math\n",
    "math.log(1-0.9)/math.log(1-0.01)"
   ]
  },
  {
   "cell_type": "markdown",
   "id": "42606a54",
   "metadata": {},
   "source": [
    "Для 1 попадания с данной вероятностью необходимо 230 выстрелов. Тогда для 6 попаданий будет необходимо 1380 выстрелов."
   ]
  }
 ],
 "metadata": {
  "kernelspec": {
   "display_name": "Python 3",
   "language": "python",
   "name": "python3"
  },
  "language_info": {
   "codemirror_mode": {
    "name": "ipython",
    "version": 3
   },
   "file_extension": ".py",
   "mimetype": "text/x-python",
   "name": "python",
   "nbconvert_exporter": "python",
   "pygments_lexer": "ipython3",
   "version": "3.8.8"
  }
 },
 "nbformat": 4,
 "nbformat_minor": 5
}
