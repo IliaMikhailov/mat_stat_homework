{
 "cells": [
  {
   "cell_type": "markdown",
   "id": "8e36ff6c",
   "metadata": {},
   "source": [
    "1. Случайная непрерывная величина A имеет равномерное распределение на промежутке (200, 800]. Найдите ее среднее значение и дисперсию."
   ]
  },
  {
   "cell_type": "code",
   "execution_count": 6,
   "id": "589065f4",
   "metadata": {},
   "outputs": [
    {
     "data": {
      "text/plain": [
       "500.0"
      ]
     },
     "execution_count": 6,
     "metadata": {},
     "output_type": "execute_result"
    }
   ],
   "source": [
    "M = (200 + 800) / 2\n",
    "M"
   ]
  },
  {
   "cell_type": "code",
   "execution_count": 5,
   "id": "4e6afaff",
   "metadata": {},
   "outputs": [
    {
     "data": {
      "text/plain": [
       "30000.0"
      ]
     },
     "execution_count": 5,
     "metadata": {},
     "output_type": "execute_result"
    }
   ],
   "source": [
    "D = ((800 - 200)**2) / 12\n",
    "D"
   ]
  },
  {
   "cell_type": "markdown",
   "id": "5124d8c2",
   "metadata": {},
   "source": [
    "2. О случайной непрерывной равномерно распределенной величине B известно, что ее дисперсия равна 0.2. Можно ли найти правую границу величины B и ее среднее значение зная, что левая граница равна 0.5? Если да, найдите ее."
   ]
  },
  {
   "cell_type": "code",
   "execution_count": 7,
   "id": "cce643a1",
   "metadata": {},
   "outputs": [],
   "source": [
    "import math"
   ]
  },
  {
   "cell_type": "code",
   "execution_count": 8,
   "id": "a8cc45ad",
   "metadata": {},
   "outputs": [
    {
     "data": {
      "text/plain": [
       "-1.0491933384829668"
      ]
     },
     "execution_count": 8,
     "metadata": {},
     "output_type": "execute_result"
    }
   ],
   "source": [
    "a = 0.5 - math.sqrt(12*0.2)\n",
    "a"
   ]
  },
  {
   "cell_type": "code",
   "execution_count": 9,
   "id": "64696483",
   "metadata": {},
   "outputs": [
    {
     "data": {
      "text/plain": [
       "-0.275"
      ]
     },
     "execution_count": 9,
     "metadata": {},
     "output_type": "execute_result"
    }
   ],
   "source": [
    "Cp = (-1.05+0.5) / 2\n",
    "Cp"
   ]
  },
  {
   "cell_type": "markdown",
   "id": "3706295b",
   "metadata": {},
   "source": [
    "Ответ: Правая граница равна -1,05, среднее значение равно -0,275."
   ]
  },
  {
   "cell_type": "markdown",
   "id": "918b3615",
   "metadata": {},
   "source": [
    "3. Непрерывная случайная величина X распределена нормально и задана плотностью распределения\n",
    "f(x) = (1 / (4 * sqrt(2*pi))) * (exp(-(x+2)**2) / 32).\n",
    "Найдите:\n",
    "а). M(X)\n",
    "б). D(X)\n",
    "в). std(X) (среднее квадратичное отклонение)\n"
   ]
  },
  {
   "cell_type": "markdown",
   "id": "3e221c61",
   "metadata": {},
   "source": [
    "Ответ: M(X) = -2, D(X) = 16, std(x) = 4"
   ]
  },
  {
   "cell_type": "markdown",
   "id": "ac46e4b0",
   "metadata": {},
   "source": [
    "4. Рост взрослого населения города X имеет нормальное распределение.\n",
    "Причем, средний рост равен 174 см, а среднее квадратичное отклонение равно 8 см.\n",
    "Какова вероятность того, что случайным образом выбранный взрослый человек имеет рост:\n",
    "а). больше 182 см\n",
    "б). больше 190 см\n",
    "в). от 166 см до 190 см\n",
    "г). от 166 см до 182 см\n",
    "д). от 158 см до 190 см\n",
    "е). не выше 150 см или не ниже 190 см\n",
    "ё). не выше 150 см или не ниже 198 см\n",
    "ж). ниже 166 см.\n"
   ]
  },
  {
   "cell_type": "code",
   "execution_count": 11,
   "id": "41e97890",
   "metadata": {},
   "outputs": [
    {
     "data": {
      "text/plain": [
       "1.0"
      ]
     },
     "execution_count": 11,
     "metadata": {},
     "output_type": "execute_result"
    }
   ],
   "source": [
    "#а). больше 182 см\n",
    "Z = (182 - 174) / 8\n",
    "Z"
   ]
  },
  {
   "cell_type": "code",
   "execution_count": 12,
   "id": "9af196b4",
   "metadata": {},
   "outputs": [
    {
     "data": {
      "text/plain": [
       "0.15866000000000002"
      ]
     },
     "execution_count": 12,
     "metadata": {},
     "output_type": "execute_result"
    }
   ],
   "source": [
    "P_X_more_182 = 1-0.84134\n",
    "P_X_more_182"
   ]
  },
  {
   "cell_type": "code",
   "execution_count": 13,
   "id": "3cf2f677",
   "metadata": {},
   "outputs": [
    {
     "data": {
      "text/plain": [
       "2.0"
      ]
     },
     "execution_count": 13,
     "metadata": {},
     "output_type": "execute_result"
    }
   ],
   "source": [
    "#б). больше 190 см\n",
    "Z = (190 - 174) / 8\n",
    "Z"
   ]
  },
  {
   "cell_type": "code",
   "execution_count": 14,
   "id": "69002395",
   "metadata": {},
   "outputs": [
    {
     "data": {
      "text/plain": [
       "0.022750000000000048"
      ]
     },
     "execution_count": 14,
     "metadata": {},
     "output_type": "execute_result"
    }
   ],
   "source": [
    "P_X_more_190 = 1-0.97725\n",
    "P_X_more_190"
   ]
  },
  {
   "cell_type": "code",
   "execution_count": 15,
   "id": "2bad091f",
   "metadata": {},
   "outputs": [
    {
     "data": {
      "text/plain": [
       "-1.75"
      ]
     },
     "execution_count": 15,
     "metadata": {},
     "output_type": "execute_result"
    }
   ],
   "source": [
    "#в). от 166 см до 190 см\n",
    "Z = (160 - 174) / 8\n",
    "Z"
   ]
  },
  {
   "cell_type": "code",
   "execution_count": 16,
   "id": "6312d7e2",
   "metadata": {},
   "outputs": [
    {
     "data": {
      "text/plain": [
       "0.93719"
      ]
     },
     "execution_count": 16,
     "metadata": {},
     "output_type": "execute_result"
    }
   ],
   "source": [
    "P_X_less_160 = 0.04006\n",
    "P_X_less_190 = 0.97725\n",
    "P_X_beetween_160_190 = P_X_less_190 - P_X_less_160\n",
    "P_X_beetween_160_190"
   ]
  },
  {
   "cell_type": "code",
   "execution_count": 17,
   "id": "5756287f",
   "metadata": {},
   "outputs": [
    {
     "data": {
      "text/plain": [
       "-1.0"
      ]
     },
     "execution_count": 17,
     "metadata": {},
     "output_type": "execute_result"
    }
   ],
   "source": [
    "#г). от 166 см до 182 см\n",
    "Z = (166 - 174) / 8\n",
    "Z"
   ]
  },
  {
   "cell_type": "code",
   "execution_count": 18,
   "id": "6c2275b7",
   "metadata": {},
   "outputs": [
    {
     "data": {
      "text/plain": [
       "0.68268"
      ]
     },
     "execution_count": 18,
     "metadata": {},
     "output_type": "execute_result"
    }
   ],
   "source": [
    "P_X_less_166 = 0.15866\n",
    "P_X_less_182 = 0.84134\n",
    "P_X_beetween_166_182 = P_X_less_182 - P_X_less_166\n",
    "P_X_beetween_166_182"
   ]
  },
  {
   "cell_type": "code",
   "execution_count": 19,
   "id": "89534516",
   "metadata": {},
   "outputs": [
    {
     "data": {
      "text/plain": [
       "-2.0"
      ]
     },
     "execution_count": 19,
     "metadata": {},
     "output_type": "execute_result"
    }
   ],
   "source": [
    "#д). от 158 см до 190 см\n",
    "Z = (158 - 174) / 8\n",
    "Z"
   ]
  },
  {
   "cell_type": "code",
   "execution_count": 20,
   "id": "ab2b34c9",
   "metadata": {},
   "outputs": [
    {
     "data": {
      "text/plain": [
       "0.9544999999999999"
      ]
     },
     "execution_count": 20,
     "metadata": {},
     "output_type": "execute_result"
    }
   ],
   "source": [
    "P_X_less_158 = 0.02275\n",
    "P_X_beetween_158_190 = P_X_less_190 - P_X_less_158\n",
    "P_X_beetween_158_190"
   ]
  },
  {
   "cell_type": "code",
   "execution_count": 21,
   "id": "2c3750d2",
   "metadata": {},
   "outputs": [
    {
     "data": {
      "text/plain": [
       "-3.0"
      ]
     },
     "execution_count": 21,
     "metadata": {},
     "output_type": "execute_result"
    }
   ],
   "source": [
    "#е). не выше 150 см или не ниже 190 см\n",
    "Z = (150 - 174) / 8\n",
    "Z"
   ]
  },
  {
   "cell_type": "code",
   "execution_count": 22,
   "id": "a17bcc43",
   "metadata": {},
   "outputs": [
    {
     "data": {
      "text/plain": [
       "0.02410000000000005"
      ]
     },
     "execution_count": 22,
     "metadata": {},
     "output_type": "execute_result"
    }
   ],
   "source": [
    "P_X_less_150 = 0.00135\n",
    "P_X_less_150_and_more_190 = P_X_less_150 + P_X_more_190\n",
    "P_X_less_150_and_more_190"
   ]
  },
  {
   "cell_type": "code",
   "execution_count": 23,
   "id": "be88290d",
   "metadata": {},
   "outputs": [
    {
     "data": {
      "text/plain": [
       "3.0"
      ]
     },
     "execution_count": 23,
     "metadata": {},
     "output_type": "execute_result"
    }
   ],
   "source": [
    "#ё). не выше 150 см или не ниже 198 см\n",
    "Z = (198 - 174) / 8\n",
    "Z"
   ]
  },
  {
   "cell_type": "code",
   "execution_count": 25,
   "id": "279eab99",
   "metadata": {},
   "outputs": [
    {
     "data": {
      "text/plain": [
       "0.0013499999999999623"
      ]
     },
     "execution_count": 25,
     "metadata": {},
     "output_type": "execute_result"
    }
   ],
   "source": [
    "P_X_more_198 = 1-0.99865\n",
    "P_X_more_198"
   ]
  },
  {
   "cell_type": "code",
   "execution_count": 26,
   "id": "8efd3411",
   "metadata": {},
   "outputs": [
    {
     "data": {
      "text/plain": [
       "0.0026999999999999624"
      ]
     },
     "execution_count": 26,
     "metadata": {},
     "output_type": "execute_result"
    }
   ],
   "source": [
    "P_X_less_150_and_more_198 = P_X_less_150 + P_X_more_198\n",
    "P_X_less_150_and_more_198"
   ]
  },
  {
   "cell_type": "code",
   "execution_count": 27,
   "id": "ddbb4685",
   "metadata": {},
   "outputs": [
    {
     "data": {
      "text/plain": [
       "-1.0"
      ]
     },
     "execution_count": 27,
     "metadata": {},
     "output_type": "execute_result"
    }
   ],
   "source": [
    "#ж). ниже 166 см.\n",
    "Z = (166 - 174) / 8\n",
    "Z"
   ]
  },
  {
   "cell_type": "code",
   "execution_count": 28,
   "id": "97552f8d",
   "metadata": {},
   "outputs": [
    {
     "data": {
      "text/plain": [
       "0.15866"
      ]
     },
     "execution_count": 28,
     "metadata": {},
     "output_type": "execute_result"
    }
   ],
   "source": [
    "P_X_less_166"
   ]
  },
  {
   "cell_type": "markdown",
   "id": "8b318115",
   "metadata": {},
   "source": [
    "5. На сколько сигм (средних квадратичных отклонений) отклоняется рост человека, равный 190 см, от\n",
    "математического ожидания роста в популяции, в которой M(X) = 178 см и D(X) = 25 кв.см?\n"
   ]
  },
  {
   "cell_type": "code",
   "execution_count": 29,
   "id": "bee001db",
   "metadata": {},
   "outputs": [
    {
     "data": {
      "text/plain": [
       "2.4"
      ]
     },
     "execution_count": 29,
     "metadata": {},
     "output_type": "execute_result"
    }
   ],
   "source": [
    "(190 - 178) / math.sqrt(25)"
   ]
  }
 ],
 "metadata": {
  "kernelspec": {
   "display_name": "Python 3",
   "language": "python",
   "name": "python3"
  },
  "language_info": {
   "codemirror_mode": {
    "name": "ipython",
    "version": 3
   },
   "file_extension": ".py",
   "mimetype": "text/x-python",
   "name": "python",
   "nbconvert_exporter": "python",
   "pygments_lexer": "ipython3",
   "version": "3.8.8"
  }
 },
 "nbformat": 4,
 "nbformat_minor": 5
}
