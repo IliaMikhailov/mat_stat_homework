{
 "cells": [
  {
   "cell_type": "markdown",
   "id": "fc5ccf1e",
   "metadata": {},
   "source": [
    "__Задача 1__\n",
    "\n",
    "Известно, что генеральная совокупность распределена нормально с известным средним квадратическим отклонением 16. Найти ширину доверительного интервала для оценки математического ожидания `mu` с надёжностью 0.95, если выборочное среднее равно 80, а объём выборки равен 256."
   ]
  },
  {
   "cell_type": "code",
   "execution_count": 7,
   "id": "ef453c27",
   "metadata": {},
   "outputs": [
    {
     "data": {
      "text/plain": [
       "(-1.959963984540054, 1.959963984540054)"
      ]
     },
     "execution_count": 7,
     "metadata": {},
     "output_type": "execute_result"
    }
   ],
   "source": [
    "from scipy import stats\n",
    "import math\n",
    "Sr = 16\n",
    "P = 0.95\n",
    "NeP = 1 - P\n",
    "Avg = 80\n",
    "N = 256\n",
    "t1 = stats.norm.ppf(NeP / 2)\n",
    "t2 = stats.norm.ppf(1 - NeP / 2)\n",
    "\n",
    "t1, t2"
   ]
  },
  {
   "cell_type": "code",
   "execution_count": 8,
   "id": "f4fb05db",
   "metadata": {},
   "outputs": [
    {
     "data": {
      "text/plain": [
       "3.9199279690801063"
      ]
     },
     "execution_count": 8,
     "metadata": {},
     "output_type": "execute_result"
    }
   ],
   "source": [
    "left = Avg + t1 * Sr / math.sqrt(N)\n",
    "right = Avg + t2 * Sr / math.sqrt(N)\n",
    "lenX = right - left\n",
    "lenX"
   ]
  },
  {
   "cell_type": "markdown",
   "id": "da614b2a",
   "metadata": {},
   "source": [
    "__Задача 2__\n",
    "\n",
    "Продавец утверждает, что средний вес пачки печенья составляет 200 г. Из партии извлечена выборка из 10 пачек. Вес каждой пачки составляет:\n",
    "```\n",
    "202, 203, 199, 197, 195, 201, 200, 204, 194, 190\n",
    "```\n",
    "Известно, что их веса распределены нормально. Верно ли утверждение продавца, если учитывать, что уровень значимости равен 1%? Найдите P-значение для данного теста и укажите его в качестве ответа."
   ]
  },
  {
   "cell_type": "code",
   "execution_count": 9,
   "id": "3cc946a9",
   "metadata": {},
   "outputs": [],
   "source": [
    "import numpy as np"
   ]
  },
  {
   "cell_type": "code",
   "execution_count": 11,
   "id": "827af086",
   "metadata": {},
   "outputs": [],
   "source": [
    "A = np.array([202, 203, 199, 197, 195, 201, 200, 204, 194, 190])"
   ]
  },
  {
   "cell_type": "code",
   "execution_count": 12,
   "id": "468d18d8",
   "metadata": {},
   "outputs": [],
   "source": [
    "level = 0.01\n",
    "n = 10\n",
    "M = 200"
   ]
  },
  {
   "cell_type": "code",
   "execution_count": null,
   "id": "2f1a5eb1",
   "metadata": {},
   "outputs": [],
   "source": [
    "t1 = stats.t.ppf(level / 2, df = n - 1)\n",
    "t2 = stats.t.ppf(1 - level / 2, df = n - 1)\n",
    "t1, t2"
   ]
  },
  {
   "cell_type": "code",
   "execution_count": 14,
   "id": "d7ce0989",
   "metadata": {},
   "outputs": [
    {
     "data": {
      "text/plain": [
       "(198.5, 4.453463071962462)"
      ]
     },
     "execution_count": 14,
     "metadata": {},
     "output_type": "execute_result"
    }
   ],
   "source": [
    "mean = A.mean()\n",
    "sigma = A.std(ddof = 1)\n",
    "mean, sigma"
   ]
  },
  {
   "cell_type": "code",
   "execution_count": 15,
   "id": "de4e3a42",
   "metadata": {},
   "outputs": [
    {
     "data": {
      "text/plain": [
       "-1.0651074037450896"
      ]
     },
     "execution_count": 15,
     "metadata": {},
     "output_type": "execute_result"
    }
   ],
   "source": [
    "t = (mean - M) / (sigma / math.sqrt(n))\n",
    "t"
   ]
  },
  {
   "cell_type": "code",
   "execution_count": 16,
   "id": "b7fc7d01",
   "metadata": {},
   "outputs": [
    {
     "data": {
      "text/plain": [
       "0.31456660352472854"
      ]
     },
     "execution_count": 16,
     "metadata": {},
     "output_type": "execute_result"
    }
   ],
   "source": [
    "left = stats.t.cdf(t, df = n - 1)\n",
    "right = 1 - stats.t.cdf(t, df = n - 1)\n",
    "p = 2 * min(left, right)\n",
    "p"
   ]
  },
  {
   "cell_type": "markdown",
   "id": "6cd092b1",
   "metadata": {},
   "source": [
    "__Задача 3__\n",
    "\n",
    "Дана выборка диаметров подшипников из примера 1 с занятия 5:\n",
    "```\n",
    "samples = [0.6603, 0.9466, 0.5968, 1.3792, 1.5481, 0.7515, 1.0681, 1.1134,\n",
    "           1.2088, 1.701 , 1.0282, 1.3579, 1.0191, 1.1784, 1.1168, 1.1372,\n",
    "           0.7273, 1.3958, 0.8665, 1.5112, 1.161 , 1.0232, 1.0865, 1.02  ]\n",
    "```\n",
    "Предполагая, что диаметры подшипников распределены нормально, проверьте гипотезу о том, что дисперсия случайной величины равна `0.0625` при уровне значимости `alpha = 0.05`. Что для этого нужно знать:\n",
    "1. Альтернативная гипотеза двухсторонняя.\n",
    "2. Статистика для теста: `H = (n - 1) * sample_variance / variance`, где `n` - число элементов в выборке, `sample_variance` - несмещённая оценка дисперсии, `variance` - утверждаемая нулевой гипотезой дисперсия.\n",
    "3. Эта статистика в предположении верности нулевой гипотезы имеет распределение хи-квадрат с параметром `df = n - 1`. Её квантили можно найти с помощью функции `scipy.stats.chi2.ppf`.\n",
    "\n",
    "В качестве ответа запишите 1, если нулевая гипотеза верна, и 0 иначе.\n",
    "\n",
    "__Ответ__: 1"
   ]
  },
  {
   "cell_type": "code",
   "execution_count": 17,
   "id": "4d37ce05",
   "metadata": {},
   "outputs": [
    {
     "data": {
      "text/plain": [
       "(24, 1.1084541666666665)"
      ]
     },
     "execution_count": 17,
     "metadata": {},
     "output_type": "execute_result"
    }
   ],
   "source": [
    "B = np.array([0.6603, 0.9466, 0.5968, 1.3792, 1.5481, 0.7515, 1.0681, 1.1134,\n",
    "           1.2088, 1.701 , 1.0282, 1.3579, 1.0191, 1.1784, 1.1168, 1.1372,\n",
    "           0.7273, 1.3958, 0.8665, 1.5112, 1.161 , 1.0232, 1.0865, 1.02  ])\n",
    "level = 0.05\n",
    "var = 0.0625\n",
    "n = B.shape[0]\n",
    "mean = B.mean()\n",
    "n, mean"
   ]
  },
  {
   "cell_type": "code",
   "execution_count": 18,
   "id": "9b165e12",
   "metadata": {},
   "outputs": [
    {
     "data": {
      "text/plain": [
       "0.27936526343958135"
      ]
     },
     "execution_count": 18,
     "metadata": {},
     "output_type": "execute_result"
    }
   ],
   "source": [
    "sigma = B.std(ddof = 1)\n",
    "sigma"
   ]
  },
  {
   "cell_type": "code",
   "execution_count": 19,
   "id": "12c5fbfe",
   "metadata": {},
   "outputs": [
    {
     "data": {
      "text/plain": [
       "0.07804495041666669"
      ]
     },
     "execution_count": 19,
     "metadata": {},
     "output_type": "execute_result"
    }
   ],
   "source": [
    "variance = sigma ** 2\n",
    "variance"
   ]
  },
  {
   "cell_type": "code",
   "execution_count": 20,
   "id": "fe9f568e",
   "metadata": {},
   "outputs": [
    {
     "data": {
      "text/plain": [
       "28.720541753333343"
      ]
     },
     "execution_count": 20,
     "metadata": {},
     "output_type": "execute_result"
    }
   ],
   "source": [
    "H = (n - 1) * variance / var\n",
    "H"
   ]
  },
  {
   "cell_type": "code",
   "execution_count": 21,
   "id": "0c982cf8",
   "metadata": {},
   "outputs": [
    {
     "data": {
      "text/plain": [
       "(11.688551922452438, 38.0756272503558)"
      ]
     },
     "execution_count": 21,
     "metadata": {},
     "output_type": "execute_result"
    }
   ],
   "source": [
    "chi1 = stats.chi2.ppf(level / 2, df = n - 1)\n",
    "chi2 = stats.chi2.ppf(1 - level / 2, df = n - 1)\n",
    "chi1, chi2"
   ]
  },
  {
   "cell_type": "code",
   "execution_count": 22,
   "id": "429c23ca",
   "metadata": {},
   "outputs": [
    {
     "data": {
      "text/plain": [
       "0.37950875392024197"
      ]
     },
     "execution_count": 22,
     "metadata": {},
     "output_type": "execute_result"
    }
   ],
   "source": [
    "left = stats.chi2.cdf(H, df = n - 1)\n",
    "right = 1 - stats.chi2.cdf(H, df = n - 1)\n",
    "p = 2 * min(left, right)\n",
    "p"
   ]
  },
  {
   "cell_type": "markdown",
   "id": "5f01e4ef",
   "metadata": {},
   "source": [
    "0.38>0.05 - гипотезу принимаем. Ответ: 1"
   ]
  }
 ],
 "metadata": {
  "kernelspec": {
   "display_name": "Python 3",
   "language": "python",
   "name": "python3"
  },
  "language_info": {
   "codemirror_mode": {
    "name": "ipython",
    "version": 3
   },
   "file_extension": ".py",
   "mimetype": "text/x-python",
   "name": "python",
   "nbconvert_exporter": "python",
   "pygments_lexer": "ipython3",
   "version": "3.8.8"
  }
 },
 "nbformat": 4,
 "nbformat_minor": 5
}
